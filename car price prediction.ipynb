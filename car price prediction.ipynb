{
 "cells": [
  {
   "cell_type": "markdown",
   "id": "2ae68ae8",
   "metadata": {},
   "source": [
    "IMPORTING LIBRARIES WE ARE GOING TO USE \n",
    "\n",
    "\n",
    "BUSINESS PROBLEM \n",
    "\n",
    "TRUECARS is a car dealership based in south africa, they are looking to expand their business to Nigeria but they do not have a sense of the market and the values of products in the market. A data scientist was hired to extract data on the Nigerian automobile market, analyze it and make predictions on the prices of cars.\n",
    "\n",
    "\n"
   ]
  },
  {
   "cell_type": "code",
   "execution_count": 2,
   "id": "9f668987",
   "metadata": {},
   "outputs": [],
   "source": [
    "import numpy as np\n",
    "import pandas as pd\n",
    "import matplotlib.pyplot as plt\n",
    "import seaborn as sns"
   ]
  },
  {
   "cell_type": "code",
   "execution_count": 3,
   "id": "b2faffa6",
   "metadata": {},
   "outputs": [],
   "source": [
    "#we are reading the dataset\n",
    "data = pd.read_csv(\"nigeria_car_dataset.csv\")\n"
   ]
  },
  {
   "cell_type": "code",
   "execution_count": 4,
   "id": "910d7205",
   "metadata": {},
   "outputs": [
    {
     "data": {
      "text/html": [
       "<div>\n",
       "<style scoped>\n",
       "    .dataframe tbody tr th:only-of-type {\n",
       "        vertical-align: middle;\n",
       "    }\n",
       "\n",
       "    .dataframe tbody tr th {\n",
       "        vertical-align: top;\n",
       "    }\n",
       "\n",
       "    .dataframe thead th {\n",
       "        text-align: right;\n",
       "    }\n",
       "</style>\n",
       "<table border=\"1\" class=\"dataframe\">\n",
       "  <thead>\n",
       "    <tr style=\"text-align: right;\">\n",
       "      <th></th>\n",
       "      <th>Unnamed: 0</th>\n",
       "      <th>Make</th>\n",
       "      <th>Year of manufacture</th>\n",
       "      <th>Condition</th>\n",
       "      <th>Mileage</th>\n",
       "      <th>Engine Size</th>\n",
       "      <th>Fuel</th>\n",
       "      <th>Transmission</th>\n",
       "      <th>Price</th>\n",
       "      <th>Build</th>\n",
       "    </tr>\n",
       "  </thead>\n",
       "  <tbody>\n",
       "    <tr>\n",
       "      <th>0</th>\n",
       "      <td>0</td>\n",
       "      <td>Toyota</td>\n",
       "      <td>2011</td>\n",
       "      <td>Foreign Used</td>\n",
       "      <td>284256.0</td>\n",
       "      <td>2500.0</td>\n",
       "      <td>Petrol</td>\n",
       "      <td>Automatic</td>\n",
       "      <td>8,610,000</td>\n",
       "      <td>NaN</td>\n",
       "    </tr>\n",
       "    <tr>\n",
       "      <th>1</th>\n",
       "      <td>1</td>\n",
       "      <td>Toyota</td>\n",
       "      <td>2013</td>\n",
       "      <td>Foreign Used</td>\n",
       "      <td>168043.0</td>\n",
       "      <td>2700.0</td>\n",
       "      <td>Petrol</td>\n",
       "      <td>Automatic</td>\n",
       "      <td>6,760,000</td>\n",
       "      <td>NaN</td>\n",
       "    </tr>\n",
       "    <tr>\n",
       "      <th>2</th>\n",
       "      <td>2</td>\n",
       "      <td>Mercedes-Benz</td>\n",
       "      <td>2014</td>\n",
       "      <td>Nigerian Used</td>\n",
       "      <td>233048.0</td>\n",
       "      <td>4600.0</td>\n",
       "      <td>Petrol</td>\n",
       "      <td>Automatic</td>\n",
       "      <td>19,760,000</td>\n",
       "      <td>SUV</td>\n",
       "    </tr>\n",
       "    <tr>\n",
       "      <th>3</th>\n",
       "      <td>3</td>\n",
       "      <td>Ford</td>\n",
       "      <td>2015</td>\n",
       "      <td>Foreign Used</td>\n",
       "      <td>105715.0</td>\n",
       "      <td>2000.0</td>\n",
       "      <td>Petrol</td>\n",
       "      <td>Automatic</td>\n",
       "      <td>11,907,000</td>\n",
       "      <td>SUV</td>\n",
       "    </tr>\n",
       "    <tr>\n",
       "      <th>4</th>\n",
       "      <td>4</td>\n",
       "      <td>Toyota</td>\n",
       "      <td>2011</td>\n",
       "      <td>Nigerian Used</td>\n",
       "      <td>198183.0</td>\n",
       "      <td>3500.0</td>\n",
       "      <td>Petrol</td>\n",
       "      <td>Automatic</td>\n",
       "      <td>5,460,000</td>\n",
       "      <td>SUV</td>\n",
       "    </tr>\n",
       "  </tbody>\n",
       "</table>\n",
       "</div>"
      ],
      "text/plain": [
       "   Unnamed: 0           Make  Year of manufacture      Condition   Mileage  \\\n",
       "0           0         Toyota                 2011   Foreign Used  284256.0   \n",
       "1           1         Toyota                 2013   Foreign Used  168043.0   \n",
       "2           2  Mercedes-Benz                 2014  Nigerian Used  233048.0   \n",
       "3           3           Ford                 2015   Foreign Used  105715.0   \n",
       "4           4         Toyota                 2011  Nigerian Used  198183.0   \n",
       "\n",
       "   Engine Size    Fuel Transmission       Price Build  \n",
       "0       2500.0  Petrol    Automatic   8,610,000   NaN  \n",
       "1       2700.0  Petrol    Automatic   6,760,000   NaN  \n",
       "2       4600.0  Petrol    Automatic  19,760,000   SUV  \n",
       "3       2000.0  Petrol    Automatic  11,907,000   SUV  \n",
       "4       3500.0  Petrol    Automatic   5,460,000   SUV  "
      ]
     },
     "execution_count": 4,
     "metadata": {},
     "output_type": "execute_result"
    }
   ],
   "source": [
    "#returns the first five values in the dataset\n",
    "data.head()"
   ]
  },
  {
   "cell_type": "code",
   "execution_count": 5,
   "id": "306daf81",
   "metadata": {},
   "outputs": [
    {
     "data": {
      "text/html": [
       "<div>\n",
       "<style scoped>\n",
       "    .dataframe tbody tr th:only-of-type {\n",
       "        vertical-align: middle;\n",
       "    }\n",
       "\n",
       "    .dataframe tbody tr th {\n",
       "        vertical-align: top;\n",
       "    }\n",
       "\n",
       "    .dataframe thead th {\n",
       "        text-align: right;\n",
       "    }\n",
       "</style>\n",
       "<table border=\"1\" class=\"dataframe\">\n",
       "  <thead>\n",
       "    <tr style=\"text-align: right;\">\n",
       "      <th></th>\n",
       "      <th>Unnamed: 0</th>\n",
       "      <th>Year of manufacture</th>\n",
       "      <th>Mileage</th>\n",
       "      <th>Engine Size</th>\n",
       "    </tr>\n",
       "  </thead>\n",
       "  <tbody>\n",
       "    <tr>\n",
       "      <th>count</th>\n",
       "      <td>3050.000000</td>\n",
       "      <td>3050.000000</td>\n",
       "      <td>2.999000e+03</td>\n",
       "      <td>3.024000e+03</td>\n",
       "    </tr>\n",
       "    <tr>\n",
       "      <th>mean</th>\n",
       "      <td>1524.500000</td>\n",
       "      <td>2007.943934</td>\n",
       "      <td>2.338023e+05</td>\n",
       "      <td>2.764444e+04</td>\n",
       "    </tr>\n",
       "    <tr>\n",
       "      <th>std</th>\n",
       "      <td>880.603486</td>\n",
       "      <td>4.343613</td>\n",
       "      <td>1.836908e+06</td>\n",
       "      <td>6.303307e+05</td>\n",
       "    </tr>\n",
       "    <tr>\n",
       "      <th>min</th>\n",
       "      <td>0.000000</td>\n",
       "      <td>1992.000000</td>\n",
       "      <td>1.000000e+00</td>\n",
       "      <td>3.000000e+02</td>\n",
       "    </tr>\n",
       "    <tr>\n",
       "      <th>25%</th>\n",
       "      <td>762.250000</td>\n",
       "      <td>2005.000000</td>\n",
       "      <td>1.214010e+05</td>\n",
       "      <td>2.000000e+03</td>\n",
       "    </tr>\n",
       "    <tr>\n",
       "      <th>50%</th>\n",
       "      <td>1524.500000</td>\n",
       "      <td>2008.000000</td>\n",
       "      <td>1.791800e+05</td>\n",
       "      <td>2.700000e+03</td>\n",
       "    </tr>\n",
       "    <tr>\n",
       "      <th>75%</th>\n",
       "      <td>2286.750000</td>\n",
       "      <td>2011.000000</td>\n",
       "      <td>2.487390e+05</td>\n",
       "      <td>3.500000e+03</td>\n",
       "    </tr>\n",
       "    <tr>\n",
       "      <th>max</th>\n",
       "      <td>3049.000000</td>\n",
       "      <td>2021.000000</td>\n",
       "      <td>1.000000e+08</td>\n",
       "      <td>2.400000e+07</td>\n",
       "    </tr>\n",
       "  </tbody>\n",
       "</table>\n",
       "</div>"
      ],
      "text/plain": [
       "        Unnamed: 0  Year of manufacture       Mileage   Engine Size\n",
       "count  3050.000000          3050.000000  2.999000e+03  3.024000e+03\n",
       "mean   1524.500000          2007.943934  2.338023e+05  2.764444e+04\n",
       "std     880.603486             4.343613  1.836908e+06  6.303307e+05\n",
       "min       0.000000          1992.000000  1.000000e+00  3.000000e+02\n",
       "25%     762.250000          2005.000000  1.214010e+05  2.000000e+03\n",
       "50%    1524.500000          2008.000000  1.791800e+05  2.700000e+03\n",
       "75%    2286.750000          2011.000000  2.487390e+05  3.500000e+03\n",
       "max    3049.000000          2021.000000  1.000000e+08  2.400000e+07"
      ]
     },
     "execution_count": 5,
     "metadata": {},
     "output_type": "execute_result"
    }
   ],
   "source": [
    "data.describe()"
   ]
  },
  {
   "cell_type": "markdown",
   "id": "bca68084",
   "metadata": {},
   "source": [
    "Print a concise summary of a DataFrame.\n",
    "\n",
    "This method prints information about a DataFrame including\n",
    "the index dtype and columns, non-null values and memory usage."
   ]
  },
  {
   "cell_type": "code",
   "execution_count": 5,
   "id": "08e95829",
   "metadata": {},
   "outputs": [
    {
     "name": "stdout",
     "output_type": "stream",
     "text": [
      "<class 'pandas.core.frame.DataFrame'>\n",
      "RangeIndex: 4095 entries, 0 to 4094\n",
      "Data columns (total 10 columns):\n",
      " #   Column               Non-Null Count  Dtype  \n",
      "---  ------               --------------  -----  \n",
      " 0   Unnamed: 0           4095 non-null   int64  \n",
      " 1   Make                 4095 non-null   object \n",
      " 2   Year of manufacture  3617 non-null   float64\n",
      " 3   Condition            3616 non-null   object \n",
      " 4   Mileage              4024 non-null   float64\n",
      " 5   Engine Size          3584 non-null   float64\n",
      " 6   Fuel                 3607 non-null   object \n",
      " 7   Transmission         4075 non-null   object \n",
      " 8   Price                4095 non-null   object \n",
      " 9   Build                1127 non-null   object \n",
      "dtypes: float64(3), int64(1), object(6)\n",
      "memory usage: 320.0+ KB\n"
     ]
    }
   ],
   "source": [
    "data.info()"
   ]
  },
  {
   "cell_type": "code",
   "execution_count": 6,
   "id": "0a4c4590",
   "metadata": {},
   "outputs": [],
   "source": [
    "#removing the comma in the values of the price column\n",
    "data['Price'].replace(to_replace=',', value='', regex=True, inplace=True)"
   ]
  },
  {
   "cell_type": "code",
   "execution_count": 7,
   "id": "c43e1f6e",
   "metadata": {},
   "outputs": [],
   "source": [
    "#converting the price value object to float\n",
    "data[\"Price\"] = data[\"Price\"].astype(\"float64\")"
   ]
  },
  {
   "cell_type": "markdown",
   "id": "4f922d31",
   "metadata": {},
   "source": [
    "Print a concise summary of a DataFrame.\n",
    "\n",
    "This method prints information about a DataFrame including\n",
    "the index dtype and columns, non-null values and memory usage."
   ]
  },
  {
   "cell_type": "code",
   "execution_count": 8,
   "id": "b27a9c3f",
   "metadata": {},
   "outputs": [
    {
     "name": "stdout",
     "output_type": "stream",
     "text": [
      "<class 'pandas.core.frame.DataFrame'>\n",
      "RangeIndex: 3050 entries, 0 to 3049\n",
      "Data columns (total 10 columns):\n",
      " #   Column               Non-Null Count  Dtype  \n",
      "---  ------               --------------  -----  \n",
      " 0   Unnamed: 0           3050 non-null   int64  \n",
      " 1   Make                 3050 non-null   object \n",
      " 2   Year of manufacture  3050 non-null   int64  \n",
      " 3   Condition            3050 non-null   object \n",
      " 4   Mileage              2999 non-null   float64\n",
      " 5   Engine Size          3024 non-null   float64\n",
      " 6   Fuel                 3049 non-null   object \n",
      " 7   Transmission         3050 non-null   object \n",
      " 8   Price                3050 non-null   float64\n",
      " 9   Build                921 non-null    object \n",
      "dtypes: float64(3), int64(2), object(5)\n",
      "memory usage: 238.4+ KB\n"
     ]
    }
   ],
   "source": [
    "\n",
    "data.info()"
   ]
  },
  {
   "cell_type": "code",
   "execution_count": 9,
   "id": "2ad73464",
   "metadata": {},
   "outputs": [
    {
     "data": {
      "text/html": [
       "<div>\n",
       "<style scoped>\n",
       "    .dataframe tbody tr th:only-of-type {\n",
       "        vertical-align: middle;\n",
       "    }\n",
       "\n",
       "    .dataframe tbody tr th {\n",
       "        vertical-align: top;\n",
       "    }\n",
       "\n",
       "    .dataframe thead th {\n",
       "        text-align: right;\n",
       "    }\n",
       "</style>\n",
       "<table border=\"1\" class=\"dataframe\">\n",
       "  <thead>\n",
       "    <tr style=\"text-align: right;\">\n",
       "      <th></th>\n",
       "      <th>Unnamed: 0</th>\n",
       "      <th>Year of manufacture</th>\n",
       "      <th>Mileage</th>\n",
       "      <th>Engine Size</th>\n",
       "      <th>Price</th>\n",
       "    </tr>\n",
       "  </thead>\n",
       "  <tbody>\n",
       "    <tr>\n",
       "      <th>count</th>\n",
       "      <td>3050.000000</td>\n",
       "      <td>3050.000000</td>\n",
       "      <td>2.999000e+03</td>\n",
       "      <td>3.024000e+03</td>\n",
       "      <td>3.050000e+03</td>\n",
       "    </tr>\n",
       "    <tr>\n",
       "      <th>mean</th>\n",
       "      <td>1524.500000</td>\n",
       "      <td>2007.943934</td>\n",
       "      <td>2.338023e+05</td>\n",
       "      <td>2.764444e+04</td>\n",
       "      <td>4.682860e+06</td>\n",
       "    </tr>\n",
       "    <tr>\n",
       "      <th>std</th>\n",
       "      <td>880.603486</td>\n",
       "      <td>4.343613</td>\n",
       "      <td>1.836908e+06</td>\n",
       "      <td>6.303307e+05</td>\n",
       "      <td>5.069384e+06</td>\n",
       "    </tr>\n",
       "    <tr>\n",
       "      <th>min</th>\n",
       "      <td>0.000000</td>\n",
       "      <td>1992.000000</td>\n",
       "      <td>1.000000e+00</td>\n",
       "      <td>3.000000e+02</td>\n",
       "      <td>6.825000e+05</td>\n",
       "    </tr>\n",
       "    <tr>\n",
       "      <th>25%</th>\n",
       "      <td>762.250000</td>\n",
       "      <td>2005.000000</td>\n",
       "      <td>1.214010e+05</td>\n",
       "      <td>2.000000e+03</td>\n",
       "      <td>2.190000e+06</td>\n",
       "    </tr>\n",
       "    <tr>\n",
       "      <th>50%</th>\n",
       "      <td>1524.500000</td>\n",
       "      <td>2008.000000</td>\n",
       "      <td>1.791800e+05</td>\n",
       "      <td>2.700000e+03</td>\n",
       "      <td>3.328000e+06</td>\n",
       "    </tr>\n",
       "    <tr>\n",
       "      <th>75%</th>\n",
       "      <td>2286.750000</td>\n",
       "      <td>2011.000000</td>\n",
       "      <td>2.487390e+05</td>\n",
       "      <td>3.500000e+03</td>\n",
       "      <td>5.200000e+06</td>\n",
       "    </tr>\n",
       "    <tr>\n",
       "      <th>max</th>\n",
       "      <td>3049.000000</td>\n",
       "      <td>2021.000000</td>\n",
       "      <td>1.000000e+08</td>\n",
       "      <td>2.400000e+07</td>\n",
       "      <td>6.300000e+07</td>\n",
       "    </tr>\n",
       "  </tbody>\n",
       "</table>\n",
       "</div>"
      ],
      "text/plain": [
       "        Unnamed: 0  Year of manufacture       Mileage   Engine Size  \\\n",
       "count  3050.000000          3050.000000  2.999000e+03  3.024000e+03   \n",
       "mean   1524.500000          2007.943934  2.338023e+05  2.764444e+04   \n",
       "std     880.603486             4.343613  1.836908e+06  6.303307e+05   \n",
       "min       0.000000          1992.000000  1.000000e+00  3.000000e+02   \n",
       "25%     762.250000          2005.000000  1.214010e+05  2.000000e+03   \n",
       "50%    1524.500000          2008.000000  1.791800e+05  2.700000e+03   \n",
       "75%    2286.750000          2011.000000  2.487390e+05  3.500000e+03   \n",
       "max    3049.000000          2021.000000  1.000000e+08  2.400000e+07   \n",
       "\n",
       "              Price  \n",
       "count  3.050000e+03  \n",
       "mean   4.682860e+06  \n",
       "std    5.069384e+06  \n",
       "min    6.825000e+05  \n",
       "25%    2.190000e+06  \n",
       "50%    3.328000e+06  \n",
       "75%    5.200000e+06  \n",
       "max    6.300000e+07  "
      ]
     },
     "execution_count": 9,
     "metadata": {},
     "output_type": "execute_result"
    }
   ],
   "source": [
    "#Generate descriptive statistics.\n",
    "data.describe()"
   ]
  },
  {
   "cell_type": "code",
   "execution_count": 10,
   "id": "1f7bb6fc",
   "metadata": {},
   "outputs": [
    {
     "data": {
      "text/plain": [
       "Unnamed: 0                0\n",
       "Make                      0\n",
       "Year of manufacture       0\n",
       "Condition                 0\n",
       "Mileage                  51\n",
       "Engine Size              26\n",
       "Fuel                      1\n",
       "Transmission              0\n",
       "Price                     0\n",
       "Build                  2129\n",
       "dtype: int64"
      ]
     },
     "execution_count": 10,
     "metadata": {},
     "output_type": "execute_result"
    }
   ],
   "source": [
    "#check for missing values\n",
    "data.isnull().sum()"
   ]
  },
  {
   "cell_type": "markdown",
   "id": "1e962be0",
   "metadata": {},
   "source": [
    "### EXPLORATORY DATA ANALYSIS"
   ]
  },
  {
   "cell_type": "code",
   "execution_count": 11,
   "id": "157f9cb3",
   "metadata": {},
   "outputs": [
    {
     "name": "stderr",
     "output_type": "stream",
     "text": [
      "/Users/damolaosho/Desktop/Mlproject/env/lib/python3.10/site-packages/seaborn/axisgrid.py:118: UserWarning: The figure layout has changed to tight\n",
      "  self._figure.tight_layout(*args, **kwargs)\n"
     ]
    },
    {
     "data": {
      "text/plain": [
       "<seaborn.axisgrid.FacetGrid at 0x124612ec0>"
      ]
     },
     "execution_count": 11,
     "metadata": {},
     "output_type": "execute_result"
    },
    {
     "data": {
      "image/png": "[encoded data removed]",
      "text/plain": [
       "<Figure size 500x500 with 1 Axes>"
      ]
     },
     "metadata": {},
     "output_type": "display_data"
    }
   ],
   "source": [
    "#data visualization\n",
    "sns.displot(data['Year of manufacture'])"
   ]
  },
  {
   "cell_type": "markdown",
   "id": "c6a6fb56",
   "metadata": {},
   "source": [
    "OBSERVATION\n",
    "\n",
    "The dataset contains cars manufactured from the year 1995 - 2020.\n",
    "\n",
    "Cars manufactured from the year 2005-2009 have the largest count in the dataset."
   ]
  },
  {
   "cell_type": "code",
   "execution_count": 12,
   "id": "99957749",
   "metadata": {},
   "outputs": [
    {
     "data": {
      "image/png": "[encoded data removed]",
      "text/plain": [
       "<Figure size 360x360 with 1 Axes>"
      ]
     },
     "metadata": {
      "needs_background": "light"
     },
     "output_type": "display_data"
    }
   ],
   "source": [
    "sns.displot(data['Mileage']);"
   ]
  },
  {
   "cell_type": "code",
   "execution_count": 13,
   "id": "eb1de937",
   "metadata": {},
   "outputs": [],
   "source": [
    "q = data['Mileage'].quantile(0.99)\n",
    "data = data[data['Mileage']<q]"
   ]
  },
  {
   "cell_type": "code",
   "execution_count": 14,
   "id": "3c75aedb",
   "metadata": {},
   "outputs": [
    {
     "data": {
      "image/png": "[encoded data removed]",
      "text/plain": [
       "<Figure size 360x360 with 1 Axes>"
      ]
     },
     "metadata": {
      "needs_background": "light"
     },
     "output_type": "display_data"
    }
   ],
   "source": [
    "sns.displot(data['Mileage']);"
   ]
  },
  {
   "cell_type": "code",
   "execution_count": 15,
   "id": "195ec984",
   "metadata": {},
   "outputs": [
    {
     "data": {
      "image/png": "[encoded data removed]",
      "text/plain": [
       "<Figure size 360x360 with 1 Axes>"
      ]
     },
     "metadata": {
      "needs_background": "light"
     },
     "output_type": "display_data"
    }
   ],
   "source": [
    "sns.displot(x=data['Engine Size']);"
   ]
  },
  {
   "cell_type": "code",
   "execution_count": 16,
   "id": "d99f7a94",
   "metadata": {},
   "outputs": [],
   "source": [
    "data = data[data['Engine Size']<8382]\n",
    "data = data[data['Engine Size']>624]"
   ]
  },
  {
   "cell_type": "code",
   "execution_count": 17,
   "id": "d5b3babe",
   "metadata": {},
   "outputs": [
    {
     "data": {
      "image/png": "[encoded data removed]",
      "text/plain": [
       "<Figure size 360x360 with 1 Axes>"
      ]
     },
     "metadata": {
      "needs_background": "light"
     },
     "output_type": "display_data"
    }
   ],
   "source": [
    "sns.displot(x=data['Engine Size']);"
   ]
  },
  {
   "cell_type": "code",
   "execution_count": 18,
   "id": "d6f718dd",
   "metadata": {},
   "outputs": [
    {
     "data": {
      "text/plain": [
       "Unnamed: 0                0\n",
       "Make                      0\n",
       "Year of manufacture       0\n",
       "Condition                 0\n",
       "Mileage                   0\n",
       "Engine Size               0\n",
       "Fuel                      6\n",
       "Transmission              2\n",
       "Price                     0\n",
       "Build                  2307\n",
       "dtype: int64"
      ]
     },
     "execution_count": 18,
     "metadata": {},
     "output_type": "execute_result"
    }
   ],
   "source": [
    "data.isnull().sum()"
   ]
  },
  {
   "cell_type": "markdown",
   "id": "855edf03",
   "metadata": {},
   "source": [
    "##### THESE VIZUALISATIONS SHOW US THE RELATIONSHIP OF THE PRICE WITH OTHER VARIABLES"
   ]
  },
  {
   "cell_type": "code",
   "execution_count": 19,
   "id": "df9afd6a",
   "metadata": {},
   "outputs": [
    {
     "data": {
      "image/png": "[encoded data removed]",
      "text/plain": [
       "<Figure size 1080x360 with 3 Axes>"
      ]
     },
     "metadata": {
      "needs_background": "light"
     },
     "output_type": "display_data"
    }
   ],
   "source": [
    "plt.figure(figsize=[15,5])\n",
    "plt.subplot(1,3,1)\n",
    "sns.scatterplot(x=data['Year of manufacture'], y=data['Price'])\n",
    "plt.subplot(1,3,2)\n",
    "sns.scatterplot(x=data['Mileage'], y=data['Price'])\n",
    "plt.subplot(1,3,3)\n",
    "sns.scatterplot(x=data['Engine Size'], y=data['Price']);"
   ]
  },
  {
   "cell_type": "markdown",
   "id": "19bc2231",
   "metadata": {},
   "source": [
    "OBSERVATION\n",
    "1. The selling price of automobiles increase with the years, this means a car made in 2010 will be sold for a higher price than a car made in 2000.\n",
    "\n",
    "2. The higher the mileage a car has on it, the lower the value.\n"
   ]
  },
  {
   "cell_type": "code",
   "execution_count": 21,
   "id": "96ef60be",
   "metadata": {},
   "outputs": [
    {
     "data": {
      "image/png": "[encoded data removed]",
      "text/plain": [
       "<Figure size 360x360 with 1 Axes>"
      ]
     },
     "metadata": {
      "needs_background": "light"
     },
     "output_type": "display_data"
    }
   ],
   "source": [
    "sns.displot(x=data['Price'])"
   ]
  },
  {
   "cell_type": "code",
   "execution_count": 22,
   "id": "f4678e8d",
   "metadata": {},
   "outputs": [],
   "source": [
    "log_price = np.log(data['Price'])\n",
    "\n",
    "data['log_price'] = log_price"
   ]
  },
  {
   "cell_type": "code",
   "execution_count": 24,
   "id": "61d9ecd6",
   "metadata": {},
   "outputs": [
    {
     "data": {
      "image/png": "[encoded data removed]",
      "text/plain": [
       "<Figure size 360x360 with 1 Axes>"
      ]
     },
     "metadata": {
      "needs_background": "light"
     },
     "output_type": "display_data"
    }
   ],
   "source": [
    "sns.displot(x=data['log_price']);"
   ]
  },
  {
   "cell_type": "code",
   "execution_count": 14,
   "id": "dd083f70",
   "metadata": {},
   "outputs": [
    {
     "data": {
      "text/plain": [
       "Transmission\n",
       "Automatic    2859\n",
       "Manual        164\n",
       "CVT            26\n",
       "AMT             1\n",
       "Name: count, dtype: int64"
      ]
     },
     "execution_count": 14,
     "metadata": {},
     "output_type": "execute_result"
    }
   ],
   "source": [
    "data['Transmission'].value_counts()"
   ]
  },
  {
   "cell_type": "code",
   "execution_count": 25,
   "id": "d5e9fafb",
   "metadata": {},
   "outputs": [
    {
     "data": {
      "image/png": "[encoded data removed]",
      "text/plain": [
       "<Figure size 432x288 with 1 Axes>"
      ]
     },
     "metadata": {
      "needs_background": "light"
     },
     "output_type": "display_data"
    }
   ],
   "source": [
    "sns.countplot(x=data['Transmission'])"
   ]
  },
  {
   "cell_type": "markdown",
   "id": "cd7cf23d",
   "metadata": {},
   "source": [
    "OBSERVATION\n",
    "\n",
    "Automatic cars largely populate the dataset obtained which indicates that there is high demand for automatic cars in nigeria."
   ]
  },
  {
   "cell_type": "code",
   "execution_count": 12,
   "id": "cedc31c2",
   "metadata": {},
   "outputs": [
    {
     "data": {
      "text/plain": [
       "Fuel\n",
       "Petrol      3013\n",
       "Hybrid        30\n",
       "Diesel         5\n",
       "Electric       1\n",
       "Name: count, dtype: int64"
      ]
     },
     "execution_count": 12,
     "metadata": {},
     "output_type": "execute_result"
    }
   ],
   "source": [
    "data['Fuel'].value_counts()"
   ]
  },
  {
   "cell_type": "code",
   "execution_count": 26,
   "id": "17aa6fb7",
   "metadata": {},
   "outputs": [
    {
     "data": {
      "image/png": "[encoded data removed]",
      "text/plain": [
       "<Figure size 432x288 with 1 Axes>"
      ]
     },
     "metadata": {
      "needs_background": "light"
     },
     "output_type": "display_data"
    }
   ],
   "source": [
    "sns.countplot(x=data['Fuel'])"
   ]
  },
  {
   "cell_type": "markdown",
   "id": "533af9c4",
   "metadata": {},
   "source": [
    "OBSERVATION\n",
    "\n",
    "Cars that run on petrol have the highest count in the dataset whicb indicates that the Nigerian automobile market has a high demand for petroleum feuled cars"
   ]
  },
  {
   "cell_type": "code",
   "execution_count": 13,
   "id": "cc3b7982",
   "metadata": {},
   "outputs": [
    {
     "data": {
      "text/plain": [
       "Condition\n",
       "Nigerian Used    2359\n",
       "Foreign Used      682\n",
       "Brand New           9\n",
       "Name: count, dtype: int64"
      ]
     },
     "execution_count": 13,
     "metadata": {},
     "output_type": "execute_result"
    }
   ],
   "source": [
    "data['Condition'].value_counts()"
   ]
  },
  {
   "cell_type": "code",
   "execution_count": 27,
   "id": "bd4e264c",
   "metadata": {},
   "outputs": [
    {
     "data": {
      "image/png": "[encoded data removed]",
      "text/plain": [
       "<Figure size 432x288 with 1 Axes>"
      ]
     },
     "metadata": {
      "needs_background": "light"
     },
     "output_type": "display_data"
    }
   ],
   "source": [
    "sns.countplot(x=data['Condition'])"
   ]
  },
  {
   "cell_type": "code",
   "execution_count": 28,
   "id": "1125ef21",
   "metadata": {},
   "outputs": [
    {
     "data": {
      "text/plain": [
       "40"
      ]
     },
     "execution_count": 28,
     "metadata": {},
     "output_type": "execute_result"
    }
   ],
   "source": [
    "#count the number of distinct elements in a specified axis\n",
    "data['Make'].nunique()"
   ]
  },
  {
   "cell_type": "markdown",
   "id": "51a03b90",
   "metadata": {},
   "source": [
    "OBSERVATION\n",
    "\n",
    "There are 40 unique car makes spread across the dataset obtained."
   ]
  },
  {
   "cell_type": "code",
   "execution_count": 23,
   "id": "fb78a24a",
   "metadata": {},
   "outputs": [
    {
     "data": {
      "text/plain": [
       "Make\n",
       "Toyota           1259\n",
       "Honda             335\n",
       "Mercedes-Benz     280\n",
       "Lexus             277\n",
       "Hyundai           123\n",
       "Ford              119\n",
       "Nissan            111\n",
       "Kia                68\n",
       "BMW                56\n",
       "Peugeot            53\n",
       "Volkswagen         53\n",
       "Acura              50\n",
       "Mazda              48\n",
       "Land Rover         41\n",
       "Infiniti           22\n",
       "Mitsubishi         20\n",
       "Chevrolet          17\n",
       "Pontiac            17\n",
       "Audi               17\n",
       "Dodge              15\n",
       "Volvo              12\n",
       "Jeep                8\n",
       "Opel                5\n",
       "GMC                 5\n",
       "Jaguar              5\n",
       "Subaru              4\n",
       "Cadillac            4\n",
       "Saturn              3\n",
       "Mini                3\n",
       "Renault             3\n",
       "Chrysler            3\n",
       "Scion               2\n",
       "GAC                 2\n",
       "Geely               2\n",
       "Suzuki              2\n",
       "Oldsmobile          1\n",
       "Rover               1\n",
       "Skoda               1\n",
       "Lincoln             1\n",
       "Porsche             1\n",
       "Tata                1\n",
       "Name: count, dtype: int64"
      ]
     },
     "execution_count": 23,
     "metadata": {},
     "output_type": "execute_result"
    }
   ],
   "source": [
    "data['Make'].value_counts()"
   ]
  },
  {
   "cell_type": "code",
   "execution_count": 22,
   "id": "4401383f",
   "metadata": {},
   "outputs": [
    {
     "data": {
      "image/png": "[encoded data removed]",
      "text/plain": [
       "<Figure size 1200x1000 with 1 Axes>"
      ]
     },
     "metadata": {},
     "output_type": "display_data"
    }
   ],
   "source": [
    "\n",
    "# Create a horizontal bar plot using Seaborn\n",
    "plt.figure(figsize=(12, 10))\n",
    "ax = sns.countplot(y='Make', data=data, orient='h')\n",
    "\n",
    "# Rotate y-axis labels to be horizontal\n",
    "ax.set_yticklabels(ax.get_yticklabels(), rotation=0)\n",
    "\n",
    "# Add labels and title\n",
    "plt.xlabel('Count')\n",
    "plt.ylabel('Car Make')\n",
    "plt.title('Car Make Distribution Count')\n",
    "\n",
    "# Show the plot\n",
    "plt.show()\n"
   ]
  },
  {
   "cell_type": "markdown",
   "id": "e7eb396b",
   "metadata": {},
   "source": [
    "OBSERVATION\n",
    "\n",
    "Toyota has the highest count in the dataset which indicates that toyota cars are the most sought cars in Nigeria"
   ]
  },
  {
   "cell_type": "markdown",
   "id": "5937f056",
   "metadata": {},
   "source": [
    "#### MODEL TRAINING AND TESTING"
   ]
  },
  {
   "cell_type": "code",
   "execution_count": 29,
   "id": "60f7469d",
   "metadata": {},
   "outputs": [],
   "source": [
    "#removes these features from the dataset\n",
    "data.drop(['Unnamed: 0','Make'], axis=1, inplace=True)"
   ]
  },
  {
   "cell_type": "code",
   "execution_count": 30,
   "id": "cd27d828",
   "metadata": {},
   "outputs": [],
   "source": [
    "#replace the NaN values with 'other'\n",
    "data['Build'] = data['Build'].fillna('other')"
   ]
  },
  {
   "cell_type": "code",
   "execution_count": 31,
   "id": "e002235a",
   "metadata": {},
   "outputs": [
    {
     "data": {
      "text/html": [
       "<div>\n",
       "<style scoped>\n",
       "    .dataframe tbody tr th:only-of-type {\n",
       "        vertical-align: middle;\n",
       "    }\n",
       "\n",
       "    .dataframe tbody tr th {\n",
       "        vertical-align: top;\n",
       "    }\n",
       "\n",
       "    .dataframe thead th {\n",
       "        text-align: right;\n",
       "    }\n",
       "</style>\n",
       "<table border=\"1\" class=\"dataframe\">\n",
       "  <thead>\n",
       "    <tr style=\"text-align: right;\">\n",
       "      <th></th>\n",
       "      <th>Year of manufacture</th>\n",
       "      <th>Condition</th>\n",
       "      <th>Mileage</th>\n",
       "      <th>Engine Size</th>\n",
       "      <th>Fuel</th>\n",
       "      <th>Transmission</th>\n",
       "      <th>Price</th>\n",
       "      <th>Build</th>\n",
       "      <th>log_price</th>\n",
       "    </tr>\n",
       "  </thead>\n",
       "  <tbody>\n",
       "    <tr>\n",
       "      <th>0</th>\n",
       "      <td>2007.0</td>\n",
       "      <td>Nigerian Used</td>\n",
       "      <td>166418.0</td>\n",
       "      <td>2400.0</td>\n",
       "      <td>Petrol</td>\n",
       "      <td>Automatic</td>\n",
       "      <td>3120000.0</td>\n",
       "      <td>other</td>\n",
       "      <td>14.953344</td>\n",
       "    </tr>\n",
       "    <tr>\n",
       "      <th>2</th>\n",
       "      <td>2008.0</td>\n",
       "      <td>Nigerian Used</td>\n",
       "      <td>376807.0</td>\n",
       "      <td>3000.0</td>\n",
       "      <td>Petrol</td>\n",
       "      <td>Automatic</td>\n",
       "      <td>3640000.0</td>\n",
       "      <td>other</td>\n",
       "      <td>15.107494</td>\n",
       "    </tr>\n",
       "    <tr>\n",
       "      <th>30</th>\n",
       "      <td>2008.0</td>\n",
       "      <td>Foreign Used</td>\n",
       "      <td>301265.0</td>\n",
       "      <td>3500.0</td>\n",
       "      <td>Petrol</td>\n",
       "      <td>Automatic</td>\n",
       "      <td>4680000.0</td>\n",
       "      <td>other</td>\n",
       "      <td>15.358809</td>\n",
       "    </tr>\n",
       "    <tr>\n",
       "      <th>32</th>\n",
       "      <td>2011.0</td>\n",
       "      <td>Nigerian Used</td>\n",
       "      <td>105546.0</td>\n",
       "      <td>4600.0</td>\n",
       "      <td>Petrol</td>\n",
       "      <td>Automatic</td>\n",
       "      <td>14040000.0</td>\n",
       "      <td>SUV</td>\n",
       "      <td>16.457421</td>\n",
       "    </tr>\n",
       "    <tr>\n",
       "      <th>43</th>\n",
       "      <td>2011.0</td>\n",
       "      <td>Foreign Used</td>\n",
       "      <td>211917.0</td>\n",
       "      <td>3500.0</td>\n",
       "      <td>Petrol</td>\n",
       "      <td>Automatic</td>\n",
       "      <td>6968000.0</td>\n",
       "      <td>other</td>\n",
       "      <td>15.756839</td>\n",
       "    </tr>\n",
       "    <tr>\n",
       "      <th>...</th>\n",
       "      <td>...</td>\n",
       "      <td>...</td>\n",
       "      <td>...</td>\n",
       "      <td>...</td>\n",
       "      <td>...</td>\n",
       "      <td>...</td>\n",
       "      <td>...</td>\n",
       "      <td>...</td>\n",
       "      <td>...</td>\n",
       "    </tr>\n",
       "    <tr>\n",
       "      <th>4090</th>\n",
       "      <td>2004.0</td>\n",
       "      <td>Nigerian Used</td>\n",
       "      <td>207446.0</td>\n",
       "      <td>3500.0</td>\n",
       "      <td>Petrol</td>\n",
       "      <td>Automatic</td>\n",
       "      <td>1125000.0</td>\n",
       "      <td>other</td>\n",
       "      <td>13.933294</td>\n",
       "    </tr>\n",
       "    <tr>\n",
       "      <th>4091</th>\n",
       "      <td>2005.0</td>\n",
       "      <td>Nigerian Used</td>\n",
       "      <td>106914.0</td>\n",
       "      <td>1800.0</td>\n",
       "      <td>Petrol</td>\n",
       "      <td>Automatic</td>\n",
       "      <td>2643750.0</td>\n",
       "      <td>other</td>\n",
       "      <td>14.787709</td>\n",
       "    </tr>\n",
       "    <tr>\n",
       "      <th>4092</th>\n",
       "      <td>2006.0</td>\n",
       "      <td>Nigerian Used</td>\n",
       "      <td>247149.0</td>\n",
       "      <td>1800.0</td>\n",
       "      <td>Petrol</td>\n",
       "      <td>Automatic</td>\n",
       "      <td>1462500.0</td>\n",
       "      <td>other</td>\n",
       "      <td>14.195658</td>\n",
       "    </tr>\n",
       "    <tr>\n",
       "      <th>4093</th>\n",
       "      <td>2007.0</td>\n",
       "      <td>Nigerian Used</td>\n",
       "      <td>249325.0</td>\n",
       "      <td>2500.0</td>\n",
       "      <td>Petrol</td>\n",
       "      <td>Automatic</td>\n",
       "      <td>2475000.0</td>\n",
       "      <td>other</td>\n",
       "      <td>14.721751</td>\n",
       "    </tr>\n",
       "    <tr>\n",
       "      <th>4094</th>\n",
       "      <td>2013.0</td>\n",
       "      <td>Foreign Used</td>\n",
       "      <td>235184.0</td>\n",
       "      <td>2500.0</td>\n",
       "      <td>Petrol</td>\n",
       "      <td>Automatic</td>\n",
       "      <td>6300000.0</td>\n",
       "      <td>other</td>\n",
       "      <td>15.656060</td>\n",
       "    </tr>\n",
       "  </tbody>\n",
       "</table>\n",
       "<p>3356 rows × 9 columns</p>\n",
       "</div>"
      ],
      "text/plain": [
       "      Year of manufacture      Condition   Mileage  Engine Size    Fuel  \\\n",
       "0                  2007.0  Nigerian Used  166418.0       2400.0  Petrol   \n",
       "2                  2008.0  Nigerian Used  376807.0       3000.0  Petrol   \n",
       "30                 2008.0   Foreign Used  301265.0       3500.0  Petrol   \n",
       "32                 2011.0  Nigerian Used  105546.0       4600.0  Petrol   \n",
       "43                 2011.0   Foreign Used  211917.0       3500.0  Petrol   \n",
       "...                   ...            ...       ...          ...     ...   \n",
       "4090               2004.0  Nigerian Used  207446.0       3500.0  Petrol   \n",
       "4091               2005.0  Nigerian Used  106914.0       1800.0  Petrol   \n",
       "4092               2006.0  Nigerian Used  247149.0       1800.0  Petrol   \n",
       "4093               2007.0  Nigerian Used  249325.0       2500.0  Petrol   \n",
       "4094               2013.0   Foreign Used  235184.0       2500.0  Petrol   \n",
       "\n",
       "     Transmission       Price  Build  log_price  \n",
       "0       Automatic   3120000.0  other  14.953344  \n",
       "2       Automatic   3640000.0  other  15.107494  \n",
       "30      Automatic   4680000.0  other  15.358809  \n",
       "32      Automatic  14040000.0    SUV  16.457421  \n",
       "43      Automatic   6968000.0  other  15.756839  \n",
       "...           ...         ...    ...        ...  \n",
       "4090    Automatic   1125000.0  other  13.933294  \n",
       "4091    Automatic   2643750.0  other  14.787709  \n",
       "4092    Automatic   1462500.0  other  14.195658  \n",
       "4093    Automatic   2475000.0  other  14.721751  \n",
       "4094    Automatic   6300000.0  other  15.656060  \n",
       "\n",
       "[3356 rows x 9 columns]"
      ]
     },
     "execution_count": 31,
     "metadata": {},
     "output_type": "execute_result"
    }
   ],
   "source": [
    "#returns dataset\n",
    "data"
   ]
  },
  {
   "cell_type": "code",
   "execution_count": 32,
   "id": "1fcaef0e",
   "metadata": {
    "scrolled": true
   },
   "outputs": [],
   "source": [
    "#fitting the model and removing the price feature and assinging it to 'y' varaible while the remaining goes to x\n",
    "X = data.drop(['Price','log_price'], axis=1)\n",
    "y = data['log_price']\n"
   ]
  },
  {
   "cell_type": "code",
   "execution_count": 33,
   "id": "df80d227",
   "metadata": {},
   "outputs": [
    {
     "data": {
      "text/html": [
       "<div>\n",
       "<style scoped>\n",
       "    .dataframe tbody tr th:only-of-type {\n",
       "        vertical-align: middle;\n",
       "    }\n",
       "\n",
       "    .dataframe tbody tr th {\n",
       "        vertical-align: top;\n",
       "    }\n",
       "\n",
       "    .dataframe thead th {\n",
       "        text-align: right;\n",
       "    }\n",
       "</style>\n",
       "<table border=\"1\" class=\"dataframe\">\n",
       "  <thead>\n",
       "    <tr style=\"text-align: right;\">\n",
       "      <th></th>\n",
       "      <th>Year of manufacture</th>\n",
       "      <th>Condition</th>\n",
       "      <th>Mileage</th>\n",
       "      <th>Engine Size</th>\n",
       "      <th>Fuel</th>\n",
       "      <th>Transmission</th>\n",
       "      <th>Build</th>\n",
       "    </tr>\n",
       "  </thead>\n",
       "  <tbody>\n",
       "    <tr>\n",
       "      <th>0</th>\n",
       "      <td>2007.0</td>\n",
       "      <td>Nigerian Used</td>\n",
       "      <td>166418.0</td>\n",
       "      <td>2400.0</td>\n",
       "      <td>Petrol</td>\n",
       "      <td>Automatic</td>\n",
       "      <td>other</td>\n",
       "    </tr>\n",
       "    <tr>\n",
       "      <th>2</th>\n",
       "      <td>2008.0</td>\n",
       "      <td>Nigerian Used</td>\n",
       "      <td>376807.0</td>\n",
       "      <td>3000.0</td>\n",
       "      <td>Petrol</td>\n",
       "      <td>Automatic</td>\n",
       "      <td>other</td>\n",
       "    </tr>\n",
       "    <tr>\n",
       "      <th>30</th>\n",
       "      <td>2008.0</td>\n",
       "      <td>Foreign Used</td>\n",
       "      <td>301265.0</td>\n",
       "      <td>3500.0</td>\n",
       "      <td>Petrol</td>\n",
       "      <td>Automatic</td>\n",
       "      <td>other</td>\n",
       "    </tr>\n",
       "    <tr>\n",
       "      <th>32</th>\n",
       "      <td>2011.0</td>\n",
       "      <td>Nigerian Used</td>\n",
       "      <td>105546.0</td>\n",
       "      <td>4600.0</td>\n",
       "      <td>Petrol</td>\n",
       "      <td>Automatic</td>\n",
       "      <td>SUV</td>\n",
       "    </tr>\n",
       "    <tr>\n",
       "      <th>43</th>\n",
       "      <td>2011.0</td>\n",
       "      <td>Foreign Used</td>\n",
       "      <td>211917.0</td>\n",
       "      <td>3500.0</td>\n",
       "      <td>Petrol</td>\n",
       "      <td>Automatic</td>\n",
       "      <td>other</td>\n",
       "    </tr>\n",
       "    <tr>\n",
       "      <th>...</th>\n",
       "      <td>...</td>\n",
       "      <td>...</td>\n",
       "      <td>...</td>\n",
       "      <td>...</td>\n",
       "      <td>...</td>\n",
       "      <td>...</td>\n",
       "      <td>...</td>\n",
       "    </tr>\n",
       "    <tr>\n",
       "      <th>4090</th>\n",
       "      <td>2004.0</td>\n",
       "      <td>Nigerian Used</td>\n",
       "      <td>207446.0</td>\n",
       "      <td>3500.0</td>\n",
       "      <td>Petrol</td>\n",
       "      <td>Automatic</td>\n",
       "      <td>other</td>\n",
       "    </tr>\n",
       "    <tr>\n",
       "      <th>4091</th>\n",
       "      <td>2005.0</td>\n",
       "      <td>Nigerian Used</td>\n",
       "      <td>106914.0</td>\n",
       "      <td>1800.0</td>\n",
       "      <td>Petrol</td>\n",
       "      <td>Automatic</td>\n",
       "      <td>other</td>\n",
       "    </tr>\n",
       "    <tr>\n",
       "      <th>4092</th>\n",
       "      <td>2006.0</td>\n",
       "      <td>Nigerian Used</td>\n",
       "      <td>247149.0</td>\n",
       "      <td>1800.0</td>\n",
       "      <td>Petrol</td>\n",
       "      <td>Automatic</td>\n",
       "      <td>other</td>\n",
       "    </tr>\n",
       "    <tr>\n",
       "      <th>4093</th>\n",
       "      <td>2007.0</td>\n",
       "      <td>Nigerian Used</td>\n",
       "      <td>249325.0</td>\n",
       "      <td>2500.0</td>\n",
       "      <td>Petrol</td>\n",
       "      <td>Automatic</td>\n",
       "      <td>other</td>\n",
       "    </tr>\n",
       "    <tr>\n",
       "      <th>4094</th>\n",
       "      <td>2013.0</td>\n",
       "      <td>Foreign Used</td>\n",
       "      <td>235184.0</td>\n",
       "      <td>2500.0</td>\n",
       "      <td>Petrol</td>\n",
       "      <td>Automatic</td>\n",
       "      <td>other</td>\n",
       "    </tr>\n",
       "  </tbody>\n",
       "</table>\n",
       "<p>3356 rows × 7 columns</p>\n",
       "</div>"
      ],
      "text/plain": [
       "      Year of manufacture      Condition   Mileage  Engine Size    Fuel  \\\n",
       "0                  2007.0  Nigerian Used  166418.0       2400.0  Petrol   \n",
       "2                  2008.0  Nigerian Used  376807.0       3000.0  Petrol   \n",
       "30                 2008.0   Foreign Used  301265.0       3500.0  Petrol   \n",
       "32                 2011.0  Nigerian Used  105546.0       4600.0  Petrol   \n",
       "43                 2011.0   Foreign Used  211917.0       3500.0  Petrol   \n",
       "...                   ...            ...       ...          ...     ...   \n",
       "4090               2004.0  Nigerian Used  207446.0       3500.0  Petrol   \n",
       "4091               2005.0  Nigerian Used  106914.0       1800.0  Petrol   \n",
       "4092               2006.0  Nigerian Used  247149.0       1800.0  Petrol   \n",
       "4093               2007.0  Nigerian Used  249325.0       2500.0  Petrol   \n",
       "4094               2013.0   Foreign Used  235184.0       2500.0  Petrol   \n",
       "\n",
       "     Transmission  Build  \n",
       "0       Automatic  other  \n",
       "2       Automatic  other  \n",
       "30      Automatic  other  \n",
       "32      Automatic    SUV  \n",
       "43      Automatic  other  \n",
       "...           ...    ...  \n",
       "4090    Automatic  other  \n",
       "4091    Automatic  other  \n",
       "4092    Automatic  other  \n",
       "4093    Automatic  other  \n",
       "4094    Automatic  other  \n",
       "\n",
       "[3356 rows x 7 columns]"
      ]
     },
     "execution_count": 33,
     "metadata": {},
     "output_type": "execute_result"
    }
   ],
   "source": [
    "#return the data of x variable we created\n",
    "X"
   ]
  },
  {
   "cell_type": "code",
   "execution_count": 34,
   "id": "f6e3554e",
   "metadata": {},
   "outputs": [],
   "source": [
    "cat = [cname for cname in X.columns if X[cname].dtype == 'object']\n",
    "num = [cname for cname in X.columns if X[cname].dtype == 'float64' or X[cname].dtype=='int64']"
   ]
  },
  {
   "cell_type": "markdown",
   "id": "b7b4c9e8",
   "metadata": {},
   "source": [
    "IMPORTING LIBRARIES WE WILL USE FOR TRAINING AND METRICS"
   ]
  },
  {
   "cell_type": "code",
   "execution_count": 35,
   "id": "0e826143",
   "metadata": {},
   "outputs": [],
   "source": [
    "from sklearn.pipeline import Pipeline\n",
    "from sklearn.model_selection import train_test_split\n",
    "from sklearn.compose import ColumnTransformer\n",
    "from sklearn.preprocessing import OneHotEncoder, MinMaxScaler\n",
    "from sklearn.impute import SimpleImputer"
   ]
  },
  {
   "cell_type": "code",
   "execution_count": 36,
   "id": "81b87219",
   "metadata": {},
   "outputs": [],
   "source": [
    "#splittiing the dataset into the training and testing we will use \n",
    "X_train, X_test, y_train, y_test = train_test_split(X, y, test_size=0.2, random_state=42)"
   ]
  },
  {
   "cell_type": "code",
   "execution_count": 37,
   "id": "47fa7d57",
   "metadata": {},
   "outputs": [],
   "source": [
    "cat_pipeline = Pipeline([('impute', SimpleImputer(strategy='most_frequent')),('encode', OneHotEncoder())])\n",
    "num_pipeline = Pipeline([('scale', MinMaxScaler())])\n",
    "\n",
    "full_pipeline = ColumnTransformer([('cat', cat_pipeline, cat), ('num', num_pipeline, num)])\n",
    "\n",
    "\n",
    "prepared = full_pipeline.fit_transform(X_train)"
   ]
  },
  {
   "cell_type": "code",
   "execution_count": 38,
   "id": "35cd5542",
   "metadata": {},
   "outputs": [
    {
     "name": "stdout",
     "output_type": "stream",
     "text": [
      "sgd 0.4360505853843787\n",
      "svm 0.37289738429987146\n",
      "forest 0.33016770038554427\n",
      "ada 0.41189737646258756\n",
      "bag 0.3445718843629451\n",
      "extree 0.34251476541752723\n",
      "grad 0.34354164228448125\n",
      "xgb 0.3276902712777479\n"
     ]
    }
   ],
   "source": [
    "from sklearn.metrics import mean_squared_error, r2_score \n",
    "from sklearn.model_selection import cross_val_score\n",
    "from sklearn.linear_model import SGDRegressor\n",
    "from sklearn.ensemble import RandomForestRegressor\n",
    "from sklearn.tree import DecisionTreeRegressor\n",
    "from sklearn.svm import SVR\n",
    "from sklearn.ensemble import AdaBoostRegressor\n",
    "from sklearn.ensemble import BaggingRegressor\n",
    "from sklearn.ensemble import ExtraTreesRegressor\n",
    "from sklearn.ensemble import GradientBoostingRegressor\n",
    "from sklearn.ensemble import StackingRegressor\n",
    "from sklearn.ensemble import VotingRegressor\n",
    "from xgboost import XGBRegressor\n",
    "\n",
    "#checking to see which models will produce the best result with low error percentage\n",
    "\n",
    "models = [('sgd',SGDRegressor()),('svm',SVR()),('forest',RandomForestRegressor()),\n",
    "         ('ada', AdaBoostRegressor()),('bag',BaggingRegressor()),('extree',ExtraTreesRegressor()),\n",
    "          ('grad',GradientBoostingRegressor()),('xgb',XGBRegressor())]\n",
    "          \n",
    "for i,j in models:\n",
    "    scores = cross_val_score(j, prepared, y_train, scoring='neg_mean_squared_error', cv=10)\n",
    "    rmse = np.sqrt(-scores.mean())\n",
    "    print(i,rmse)"
   ]
  },
  {
   "cell_type": "code",
   "execution_count": 39,
   "id": "92c399c0",
   "metadata": {},
   "outputs": [
    {
     "data": {
      "text/plain": [
       "XGBRegressor(base_score=0.5, booster='gbtree', callbacks=None,\n",
       "             colsample_bylevel=1, colsample_bynode=1, colsample_bytree=1,\n",
       "             early_stopping_rounds=None, enable_categorical=False,\n",
       "             eval_metric=None, feature_types=None, gamma=0, gpu_id=-1,\n",
       "             grow_policy='depthwise', importance_type=None,\n",
       "             interaction_constraints='', learning_rate=0.300000012, max_bin=256,\n",
       "             max_cat_threshold=64, max_cat_to_onehot=4, max_delta_step=0,\n",
       "             max_depth=6, max_leaves=0, min_child_weight=1, missing=nan,\n",
       "             monotone_constraints='()', n_estimators=100, n_jobs=0,\n",
       "             num_parallel_tree=1, predictor='auto', random_state=0, ...)"
      ]
     },
     "execution_count": 39,
     "metadata": {},
     "output_type": "execute_result"
    }
   ],
   "source": [
    "#using xgboost regressor to train the model\n",
    "xgb = XGBRegressor()\n",
    "xgb.fit(prepared,y_train)"
   ]
  },
  {
   "cell_type": "code",
   "execution_count": 40,
   "id": "6b1997e8",
   "metadata": {},
   "outputs": [
    {
     "data": {
      "text/plain": [
       "GridSearchCV(cv=5,\n",
       "             estimator=XGBRegressor(base_score=None, booster=None,\n",
       "                                    callbacks=None, colsample_bylevel=None,\n",
       "                                    colsample_bynode=None,\n",
       "                                    colsample_bytree=None,\n",
       "                                    early_stopping_rounds=None,\n",
       "                                    enable_categorical=False, eval_metric=None,\n",
       "                                    feature_types=None, gamma=None, gpu_id=None,\n",
       "                                    grow_policy=None, importance_type=None,\n",
       "                                    interaction_constraints=None,\n",
       "                                    learning_rate=None, m...\n",
       "                                    max_depth=None, max_leaves=None,\n",
       "                                    min_child_weight=None, missing=nan,\n",
       "                                    monotone_constraints=None, n_estimators=100,\n",
       "                                    n_jobs=None, num_parallel_tree=None,\n",
       "                                    predictor=None, random_state=None, ...),\n",
       "             n_jobs=-1,\n",
       "             param_grid=[{'colsample_bylevel': [0.7, 1],\n",
       "                          'learning_rate': [0.1, 0.3, 0.5],\n",
       "                          'max_depth': [4, 5, 6],\n",
       "                          'n_estimators': [100, 300, 400]}],\n",
       "             return_train_score=True, scoring='neg_mean_squared_error')"
      ]
     },
     "execution_count": 40,
     "metadata": {},
     "output_type": "execute_result"
    }
   ],
   "source": [
    "from sklearn.model_selection import RandomizedSearchCV, GridSearchCV\n",
    "\n",
    "xgb = XGBRegressor()\n",
    "param_grid = [{'n_estimators':[100,300,400], 'max_depth':[4,5,6],'learning_rate':[0.1,0.3,0.5],\n",
    "              'colsample_bylevel':[0.7,1]}]\n",
    "              \n",
    "grid_search = GridSearchCV(xgb, param_grid, cv=5, scoring='neg_mean_squared_error', return_train_score=True, \n",
    "                                   n_jobs=-1)\n",
    "grid_search.fit(prepared, y_train)"
   ]
  },
  {
   "cell_type": "code",
   "execution_count": 41,
   "id": "d555ef04",
   "metadata": {},
   "outputs": [
    {
     "data": {
      "text/plain": [
       "{'colsample_bylevel': 0.7,\n",
       " 'learning_rate': 0.1,\n",
       " 'max_depth': 6,\n",
       " 'n_estimators': 300}"
      ]
     },
     "execution_count": 41,
     "metadata": {},
     "output_type": "execute_result"
    }
   ],
   "source": [
    "grid_search.best_params_"
   ]
  },
  {
   "cell_type": "code",
   "execution_count": 42,
   "id": "4d50e527",
   "metadata": {},
   "outputs": [
    {
     "data": {
      "text/plain": [
       "XGBRegressor(base_score=0.5, booster='gbtree', callbacks=None,\n",
       "             colsample_bylevel=0.7, colsample_bynode=1, colsample_bytree=1,\n",
       "             early_stopping_rounds=None, enable_categorical=False,\n",
       "             eval_metric=None, feature_types=None, gamma=0, gpu_id=-1,\n",
       "             grow_policy='depthwise', importance_type=None,\n",
       "             interaction_constraints='', learning_rate=0.1, max_bin=256,\n",
       "             max_cat_threshold=64, max_cat_to_onehot=4, max_delta_step=0,\n",
       "             max_depth=6, max_leaves=0, min_child_weight=1, missing=nan,\n",
       "             monotone_constraints='()', n_estimators=300, n_jobs=0,\n",
       "             num_parallel_tree=1, predictor='auto', random_state=0, ...)"
      ]
     },
     "execution_count": 42,
     "metadata": {},
     "output_type": "execute_result"
    }
   ],
   "source": [
    "xgb = XGBRegressor(learning_rate= 0.1, max_depth= 6, n_estimators= 300, colsample_bylevel=0.7)\n",
    "xgb.fit(prepared,y_train)"
   ]
  },
  {
   "cell_type": "code",
   "execution_count": 43,
   "id": "47214198",
   "metadata": {},
   "outputs": [],
   "source": [
    "test = full_pipeline.transform(X_test)"
   ]
  },
  {
   "cell_type": "code",
   "execution_count": 44,
   "id": "7a6ac534",
   "metadata": {},
   "outputs": [],
   "source": [
    "y_pred = xgb.predict(test)"
   ]
  },
  {
   "cell_type": "code",
   "execution_count": 45,
   "id": "299957c4",
   "metadata": {},
   "outputs": [],
   "source": [
    "y_test = y_test.values"
   ]
  },
  {
   "cell_type": "code",
   "execution_count": 46,
   "id": "4c5380fd",
   "metadata": {},
   "outputs": [],
   "source": [
    "t = np.exp(y_test)\n",
    "p = np.exp(y_pred)"
   ]
  },
  {
   "cell_type": "code",
   "execution_count": 47,
   "id": "4fce76b7",
   "metadata": {},
   "outputs": [
    {
     "name": "stdout",
     "output_type": "stream",
     "text": [
      "1719052.8263710674\n"
     ]
    }
   ],
   "source": [
    "#calculating the mean squared error\n",
    "mse = mean_squared_error(p,t)\n",
    "rmse = np.sqrt(mse)\n",
    "print(rmse)"
   ]
  },
  {
   "cell_type": "markdown",
   "id": "c41f474a",
   "metadata": {},
   "source": [
    "An error of 1.719052 million is good considering the range of our prices is from 458,000 to 58.8 million naira."
   ]
  },
  {
   "cell_type": "code",
   "execution_count": 48,
   "id": "ca87458d",
   "metadata": {},
   "outputs": [
    {
     "data": {
      "image/png": "[encoded data removed]",
      "text/plain": [
       "<Figure size 432x288 with 1 Axes>"
      ]
     },
     "metadata": {
      "needs_background": "light"
     },
     "output_type": "display_data"
    }
   ],
   "source": [
    "#visualization of the actual price and predicted price\n",
    "sns.histplot(p, label='prediction',color='red')\n",
    "sns.histplot(t, label='actual price')\n",
    "plt.legend();"
   ]
  },
  {
   "cell_type": "code",
   "execution_count": 49,
   "id": "6477002e",
   "metadata": {},
   "outputs": [
    {
     "data": {
      "text/html": [
       "<div>\n",
       "<style scoped>\n",
       "    .dataframe tbody tr th:only-of-type {\n",
       "        vertical-align: middle;\n",
       "    }\n",
       "\n",
       "    .dataframe tbody tr th {\n",
       "        vertical-align: top;\n",
       "    }\n",
       "\n",
       "    .dataframe thead th {\n",
       "        text-align: right;\n",
       "    }\n",
       "</style>\n",
       "<table border=\"1\" class=\"dataframe\">\n",
       "  <thead>\n",
       "    <tr style=\"text-align: right;\">\n",
       "      <th></th>\n",
       "      <th>Prediction</th>\n",
       "      <th>Target</th>\n",
       "      <th>Difference%</th>\n",
       "    </tr>\n",
       "  </thead>\n",
       "  <tbody>\n",
       "    <tr>\n",
       "      <th>175</th>\n",
       "      <td>5624784.00</td>\n",
       "      <td>5625000.00</td>\n",
       "      <td>0.00</td>\n",
       "    </tr>\n",
       "    <tr>\n",
       "      <th>647</th>\n",
       "      <td>1781286.00</td>\n",
       "      <td>1785000.00</td>\n",
       "      <td>0.21</td>\n",
       "    </tr>\n",
       "    <tr>\n",
       "      <th>618</th>\n",
       "      <td>1157531.88</td>\n",
       "      <td>1155000.00</td>\n",
       "      <td>0.22</td>\n",
       "    </tr>\n",
       "    <tr>\n",
       "      <th>572</th>\n",
       "      <td>1980907.00</td>\n",
       "      <td>1976000.00</td>\n",
       "      <td>0.25</td>\n",
       "    </tr>\n",
       "    <tr>\n",
       "      <th>588</th>\n",
       "      <td>4951018.50</td>\n",
       "      <td>4935000.00</td>\n",
       "      <td>0.32</td>\n",
       "    </tr>\n",
       "    <tr>\n",
       "      <th>...</th>\n",
       "      <td>...</td>\n",
       "      <td>...</td>\n",
       "      <td>...</td>\n",
       "    </tr>\n",
       "    <tr>\n",
       "      <th>304</th>\n",
       "      <td>2945828.75</td>\n",
       "      <td>1207500.00</td>\n",
       "      <td>143.96</td>\n",
       "    </tr>\n",
       "    <tr>\n",
       "      <th>102</th>\n",
       "      <td>5253761.50</td>\n",
       "      <td>2100000.00</td>\n",
       "      <td>150.18</td>\n",
       "    </tr>\n",
       "    <tr>\n",
       "      <th>668</th>\n",
       "      <td>17091224.00</td>\n",
       "      <td>6510000.00</td>\n",
       "      <td>162.54</td>\n",
       "    </tr>\n",
       "    <tr>\n",
       "      <th>597</th>\n",
       "      <td>2576641.25</td>\n",
       "      <td>892500.00</td>\n",
       "      <td>188.70</td>\n",
       "    </tr>\n",
       "    <tr>\n",
       "      <th>122</th>\n",
       "      <td>2617826.50</td>\n",
       "      <td>840000.00</td>\n",
       "      <td>211.65</td>\n",
       "    </tr>\n",
       "  </tbody>\n",
       "</table>\n",
       "<p>672 rows × 3 columns</p>\n",
       "</div>"
      ],
      "text/plain": [
       "     Prediction     Target  Difference%\n",
       "175  5624784.00 5625000.00         0.00\n",
       "647  1781286.00 1785000.00         0.21\n",
       "618  1157531.88 1155000.00         0.22\n",
       "572  1980907.00 1976000.00         0.25\n",
       "588  4951018.50 4935000.00         0.32\n",
       "..          ...        ...          ...\n",
       "304  2945828.75 1207500.00       143.96\n",
       "102  5253761.50 2100000.00       150.18\n",
       "668 17091224.00 6510000.00       162.54\n",
       "597  2576641.25  892500.00       188.70\n",
       "122  2617826.50  840000.00       211.65\n",
       "\n",
       "[672 rows x 3 columns]"
      ]
     },
     "execution_count": 49,
     "metadata": {},
     "output_type": "execute_result"
    }
   ],
   "source": [
    "#comparing the actual price values with the prediction values our model obtained\n",
    "df_pred = pd.DataFrame(p, columns=['Prediction'])\n",
    "df_pred['Target'] = t\n",
    "df_pred['Difference%'] = np.absolute((df_pred['Target'] - df_pred['Prediction'])/df_pred['Target']*100)\n",
    "pd.set_option('display.float_format', lambda x: '%.2f' % x)\n",
    "df_pred = df_pred.sort_values(by=['Difference%'])\n",
    "df_pred"
   ]
  }
 ],
 "metadata": {
  "kernelspec": {
   "display_name": "Python 3 (ipykernel)",
   "language": "python",
   "name": "python3"
  },
  "language_info": {
   "codemirror_mode": {
    "name": "ipython",
    "version": 3
   },
   "file_extension": ".py",
   "mimetype": "text/x-python",
   "name": "python",
   "nbconvert_exporter": "python",
   "pygments_lexer": "ipython3",
   "version": "3.10.13"
  }
 },
 "nbformat": 4,
 "nbformat_minor": 5
}
